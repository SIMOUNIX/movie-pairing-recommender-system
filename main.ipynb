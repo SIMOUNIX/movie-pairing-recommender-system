{
 "cells": [
  {
   "cell_type": "code",
   "execution_count": 1,
   "metadata": {},
   "outputs": [
    {
     "name": "stderr",
     "output_type": "stream",
     "text": [
      "/home/simounix/.local/lib/python3.10/site-packages/pandas/core/arrays/masked.py:62: UserWarning: Pandas requires version '1.3.4' or newer of 'bottleneck' (version '1.3.2' currently installed).\n",
      "  from pandas.core import (\n"
     ]
    }
   ],
   "source": [
    "import pandas as pd\n",
    "from urllib.request import urlretrieve\n",
    "from zipfile import ZipFile\n",
    "import os\n",
    "from shutil import rmtree"
   ]
  },
  {
   "cell_type": "markdown",
   "metadata": {},
   "source": [
    "## Load IMDB dataset"
   ]
  },
  {
   "cell_type": "code",
   "execution_count": 2,
   "metadata": {},
   "outputs": [
    {
     "name": "stdout",
     "output_type": "stream",
     "text": [
      "Size for name_basics: (13575526, 6)\n",
      "Size for title_basics: (10856095, 9)\n",
      "Size for title_ratings: (1447554, 3)\n"
     ]
    }
   ],
   "source": [
    "name_basics = pd.read_csv(\n",
    "    'data/name.basics.tsv',\n",
    "    sep='\\t', \n",
    "    low_memory=False\n",
    ")\n",
    "\n",
    "title_basics = pd.read_csv(\n",
    "    'data/title.basics.tsv', \n",
    "    sep='\\t', \n",
    "    low_memory=False\n",
    ")\n",
    "\n",
    "title_ratings = pd.read_csv(\n",
    "    'data/title.ratings.tsv',\n",
    "    sep='\\t',\n",
    "    low_memory=False\n",
    ")\n",
    "\n",
    "print(\"Size for name_basics:\", name_basics.shape)\n",
    "print(\"Size for title_basics:\", title_basics.shape)\n",
    "print(\"Size for title_ratings:\", title_ratings.shape)"
   ]
  },
  {
   "cell_type": "code",
   "execution_count": 3,
   "metadata": {},
   "outputs": [],
   "source": [
    "# Copy that we will use throughout the project\n",
    "\n",
    "imdb_name = name_basics.copy()\n",
    "imdb_title = title_basics.copy()\n",
    "imdb_rating = title_ratings.copy()"
   ]
  },
  {
   "cell_type": "markdown",
   "metadata": {},
   "source": [
    "## Load MovieLens 1M dataset"
   ]
  },
  {
   "cell_type": "code",
   "execution_count": 4,
   "metadata": {},
   "outputs": [
    {
     "name": "stdout",
     "output_type": "stream",
     "text": [
      "Downloaded: movielens.zip\n"
     ]
    }
   ],
   "source": [
    "data_path = 'data/'\n",
    "\n",
    "# Remove ml-1m if it exists in the data folder\n",
    "if 'ml-1m' in os.listdir(data_path):\n",
    "    rmtree(data_path + 'ml-1m')\n",
    "    \n",
    "dsURL = \"http://files.grouplens.org/datasets/movielens/ml-1m.zip\", \"movielens.zip\";\n",
    "urlretrieve(dsURL[0], dsURL[1])\n",
    "print('Downloaded:', dsURL[1])\n",
    "\n",
    "ZipFile(dsURL[1], \"r\").extractall(data_path)"
   ]
  },
  {
   "cell_type": "code",
   "execution_count": 5,
   "metadata": {},
   "outputs": [
    {
     "name": "stdout",
     "output_type": "stream",
     "text": [
      "Size for users: (6040, 5)\n",
      "Size for ratings: (1000209, 4)\n",
      "Size for movies: (3883, 3)\n"
     ]
    }
   ],
   "source": [
    "users = pd.read_csv(\n",
    "    data_path + 'ml-1m/users.dat', \n",
    "    sep='::',\n",
    "    names=[\"user_id\", \"sex\", \"age_group\", \"occupation\", \"zip_code\"],\n",
    "    engine=\"python\"\n",
    ")\n",
    "\n",
    "ratings = pd.read_csv(\n",
    "    data_path + \"ml-1m/ratings.dat\",\n",
    "    sep=\"::\",\n",
    "    names=[\"user_id\", \"movie_id\", \"rating\", \"unix_timestamp\"],\n",
    "    engine=\"python\",\n",
    ")\n",
    "\n",
    "movies = pd.read_csv(\n",
    "    data_path + \"ml-1m/movies.dat\",\n",
    "    sep=\"::\",\n",
    "    names=[\"movie_id\", \"title\", \"genres\"],\n",
    "    engine=\"python\",\n",
    "    encoding=\"latin-1\",\n",
    ")\n",
    "\n",
    "print(\"Size for users:\", users.shape)\n",
    "print(\"Size for ratings:\", ratings.shape)\n",
    "print(\"Size for movies:\", movies.shape)"
   ]
  },
  {
   "cell_type": "code",
   "execution_count": 31,
   "metadata": {},
   "outputs": [],
   "source": [
    "# Copy that we will use throughout the project\n",
    "\n",
    "ml_users = users.copy()\n",
    "ml_ratings = ratings.copy()\n",
    "ml_movies = movies.copy()"
   ]
  },
  {
   "cell_type": "markdown",
   "metadata": {},
   "source": [
    "## Preprocess MovieLens 1M dataset"
   ]
  },
  {
   "cell_type": "code",
   "execution_count": 32,
   "metadata": {},
   "outputs": [],
   "source": [
    "ml_users[\"user_id\"] = ml_users[\"user_id\"].apply(lambda x: f\"user_{x}\")\n",
    "ml_users[\"age_group\"] = ml_users[\"age_group\"].apply(lambda x: f\"group_{x}\")\n",
    "ml_users[\"occupation\"] = ml_users[\"occupation\"].apply(lambda x: f\"occupation_{x}\")\n",
    "\n",
    "ml_movies[\"movie_id\"] = ml_movies[\"movie_id\"].apply(lambda x: f\"movie_{x}\")\n",
    "ml_movies[\"date\"] = ml_movies[\"title\"].apply(lambda x: x[-5:-1])\n",
    "ml_movies[\"title\"] = ml_movies[\"title\"].apply(lambda x: x[:-7])\n",
    "ml_movies[\"original_title\"] = ml_movies[\"title\"].str.extract(r\"\\((.*)\\)\")\n",
    "ml_movies[\"title\"] = ml_movies[\"title\"].str.replace(r\"\\(.*\\)\", \"\").str.strip()\n",
    "\n",
    "# For all the movies title that have \", The\" or \", Les\" at the end, we will move it to the beginning without the comma. End remove it from the end.\n",
    "ml_movies[\"title\"] = ml_movies[\"title\"].apply(lambda x: \"The \" + x[:-5] if x[-5:] == \", The\" else x)\n",
    "ml_movies[\"title\"] = ml_movies[\"title\"].apply(lambda x: \"Les \" + x[:-5] if x[-5:] == \", Les\" else x)\n",
    "\n",
    "# Rename movies['title'] to movies['primary_title']\n",
    "ml_movies.rename(columns={\"title\": \"primary_title\"}, inplace=True)\n",
    "\n",
    "ml_ratings[\"movie_id\"] = ml_ratings[\"movie_id\"].apply(lambda x: f\"movie_{x}\")\n",
    "ml_ratings[\"user_id\"] = ml_ratings[\"user_id\"].apply(lambda x: f\"user_{x}\")\n",
    "ml_ratings[\"rating\"] = ml_ratings[\"rating\"].apply(lambda x: float(x))"
   ]
  },
  {
   "cell_type": "code",
   "execution_count": 33,
   "metadata": {},
   "outputs": [],
   "source": [
    "ml_movies[\"title_processed\"] = ml_movies[\"primary_title\"].apply(lambda x: x.replace(\" \", \"\").lower())\n",
    "ml_movies[\"title_processed\"] = ml_movies[\"title_processed\"].str.normalize('NFKD').str.encode('ascii', errors='ignore').str.decode('utf-8')"
   ]
  },
  {
   "cell_type": "code",
   "execution_count": 34,
   "metadata": {},
   "outputs": [
    {
     "data": {
      "text/html": [
       "<div>\n",
       "<style scoped>\n",
       "    .dataframe tbody tr th:only-of-type {\n",
       "        vertical-align: middle;\n",
       "    }\n",
       "\n",
       "    .dataframe tbody tr th {\n",
       "        vertical-align: top;\n",
       "    }\n",
       "\n",
       "    .dataframe thead th {\n",
       "        text-align: right;\n",
       "    }\n",
       "</style>\n",
       "<table border=\"1\" class=\"dataframe\">\n",
       "  <thead>\n",
       "    <tr style=\"text-align: right;\">\n",
       "      <th></th>\n",
       "      <th>movie_id</th>\n",
       "      <th>primary_title</th>\n",
       "      <th>genres</th>\n",
       "      <th>date</th>\n",
       "      <th>original_title</th>\n",
       "      <th>title_processed</th>\n",
       "    </tr>\n",
       "  </thead>\n",
       "  <tbody>\n",
       "    <tr>\n",
       "      <th>0</th>\n",
       "      <td>movie_1</td>\n",
       "      <td>Toy Story</td>\n",
       "      <td>Animation|Children's|Comedy</td>\n",
       "      <td>1995</td>\n",
       "      <td>NaN</td>\n",
       "      <td>toystory</td>\n",
       "    </tr>\n",
       "    <tr>\n",
       "      <th>1</th>\n",
       "      <td>movie_2</td>\n",
       "      <td>Jumanji</td>\n",
       "      <td>Adventure|Children's|Fantasy</td>\n",
       "      <td>1995</td>\n",
       "      <td>NaN</td>\n",
       "      <td>jumanji</td>\n",
       "    </tr>\n",
       "    <tr>\n",
       "      <th>2</th>\n",
       "      <td>movie_3</td>\n",
       "      <td>Grumpier Old Men</td>\n",
       "      <td>Comedy|Romance</td>\n",
       "      <td>1995</td>\n",
       "      <td>NaN</td>\n",
       "      <td>grumpieroldmen</td>\n",
       "    </tr>\n",
       "    <tr>\n",
       "      <th>3</th>\n",
       "      <td>movie_4</td>\n",
       "      <td>Waiting to Exhale</td>\n",
       "      <td>Comedy|Drama</td>\n",
       "      <td>1995</td>\n",
       "      <td>NaN</td>\n",
       "      <td>waitingtoexhale</td>\n",
       "    </tr>\n",
       "    <tr>\n",
       "      <th>4</th>\n",
       "      <td>movie_5</td>\n",
       "      <td>Father of the Bride Part II</td>\n",
       "      <td>Comedy</td>\n",
       "      <td>1995</td>\n",
       "      <td>NaN</td>\n",
       "      <td>fatherofthebridepartii</td>\n",
       "    </tr>\n",
       "    <tr>\n",
       "      <th>...</th>\n",
       "      <td>...</td>\n",
       "      <td>...</td>\n",
       "      <td>...</td>\n",
       "      <td>...</td>\n",
       "      <td>...</td>\n",
       "      <td>...</td>\n",
       "    </tr>\n",
       "    <tr>\n",
       "      <th>3878</th>\n",
       "      <td>movie_3948</td>\n",
       "      <td>Meet the Parents</td>\n",
       "      <td>Comedy</td>\n",
       "      <td>2000</td>\n",
       "      <td>NaN</td>\n",
       "      <td>meettheparents</td>\n",
       "    </tr>\n",
       "    <tr>\n",
       "      <th>3879</th>\n",
       "      <td>movie_3949</td>\n",
       "      <td>Requiem for a Dream</td>\n",
       "      <td>Drama</td>\n",
       "      <td>2000</td>\n",
       "      <td>NaN</td>\n",
       "      <td>requiemforadream</td>\n",
       "    </tr>\n",
       "    <tr>\n",
       "      <th>3880</th>\n",
       "      <td>movie_3950</td>\n",
       "      <td>Tigerland</td>\n",
       "      <td>Drama</td>\n",
       "      <td>2000</td>\n",
       "      <td>NaN</td>\n",
       "      <td>tigerland</td>\n",
       "    </tr>\n",
       "    <tr>\n",
       "      <th>3881</th>\n",
       "      <td>movie_3951</td>\n",
       "      <td>Two Family House</td>\n",
       "      <td>Drama</td>\n",
       "      <td>2000</td>\n",
       "      <td>NaN</td>\n",
       "      <td>twofamilyhouse</td>\n",
       "    </tr>\n",
       "    <tr>\n",
       "      <th>3882</th>\n",
       "      <td>movie_3952</td>\n",
       "      <td>The Contender, The</td>\n",
       "      <td>Drama|Thriller</td>\n",
       "      <td>2000</td>\n",
       "      <td>NaN</td>\n",
       "      <td>thecontender,the</td>\n",
       "    </tr>\n",
       "  </tbody>\n",
       "</table>\n",
       "<p>3883 rows × 6 columns</p>\n",
       "</div>"
      ],
      "text/plain": [
       "        movie_id                primary_title                        genres  \\\n",
       "0        movie_1                    Toy Story   Animation|Children's|Comedy   \n",
       "1        movie_2                      Jumanji  Adventure|Children's|Fantasy   \n",
       "2        movie_3             Grumpier Old Men                Comedy|Romance   \n",
       "3        movie_4            Waiting to Exhale                  Comedy|Drama   \n",
       "4        movie_5  Father of the Bride Part II                        Comedy   \n",
       "...          ...                          ...                           ...   \n",
       "3878  movie_3948             Meet the Parents                        Comedy   \n",
       "3879  movie_3949          Requiem for a Dream                         Drama   \n",
       "3880  movie_3950                    Tigerland                         Drama   \n",
       "3881  movie_3951             Two Family House                         Drama   \n",
       "3882  movie_3952           The Contender, The                Drama|Thriller   \n",
       "\n",
       "      date original_title         title_processed  \n",
       "0     1995            NaN                toystory  \n",
       "1     1995            NaN                 jumanji  \n",
       "2     1995            NaN          grumpieroldmen  \n",
       "3     1995            NaN         waitingtoexhale  \n",
       "4     1995            NaN  fatherofthebridepartii  \n",
       "...    ...            ...                     ...  \n",
       "3878  2000            NaN          meettheparents  \n",
       "3879  2000            NaN        requiemforadream  \n",
       "3880  2000            NaN               tigerland  \n",
       "3881  2000            NaN          twofamilyhouse  \n",
       "3882  2000            NaN        thecontender,the  \n",
       "\n",
       "[3883 rows x 6 columns]"
      ]
     },
     "execution_count": 34,
     "metadata": {},
     "output_type": "execute_result"
    }
   ],
   "source": [
    "ml_movies"
   ]
  },
  {
   "cell_type": "markdown",
   "metadata": {},
   "source": [
    "## Preprocess IMDB dataset"
   ]
  },
  {
   "cell_type": "code",
   "execution_count": 10,
   "metadata": {},
   "outputs": [],
   "source": [
    "# Change genre seprator from , to | before cast the column to string\n",
    "\n",
    "title_basics['genres'] = title_basics['genres'].astype(str)\n",
    "title_basics['genres'] = title_basics['genres'].apply(lambda x: x.replace(',', '|'))"
   ]
  },
  {
   "cell_type": "code",
   "execution_count": 11,
   "metadata": {},
   "outputs": [],
   "source": [
    "# merge the title_basics and title_ratings dataframes\n",
    "\n",
    "title_basics_ratings = pd.merge(title_basics, title_ratings, on='tconst', how='inner')"
   ]
  },
  {
   "cell_type": "code",
   "execution_count": 12,
   "metadata": {},
   "outputs": [
    {
     "data": {
      "text/html": [
       "<div>\n",
       "<style scoped>\n",
       "    .dataframe tbody tr th:only-of-type {\n",
       "        vertical-align: middle;\n",
       "    }\n",
       "\n",
       "    .dataframe tbody tr th {\n",
       "        vertical-align: top;\n",
       "    }\n",
       "\n",
       "    .dataframe thead th {\n",
       "        text-align: right;\n",
       "    }\n",
       "</style>\n",
       "<table border=\"1\" class=\"dataframe\">\n",
       "  <thead>\n",
       "    <tr style=\"text-align: right;\">\n",
       "      <th></th>\n",
       "      <th>tconst</th>\n",
       "      <th>titleType</th>\n",
       "      <th>primaryTitle</th>\n",
       "      <th>originalTitle</th>\n",
       "      <th>isAdult</th>\n",
       "      <th>startYear</th>\n",
       "      <th>endYear</th>\n",
       "      <th>runtimeMinutes</th>\n",
       "      <th>genres</th>\n",
       "      <th>averageRating</th>\n",
       "      <th>numVotes</th>\n",
       "    </tr>\n",
       "  </thead>\n",
       "  <tbody>\n",
       "    <tr>\n",
       "      <th>86628</th>\n",
       "      <td>tt0114709</td>\n",
       "      <td>movie</td>\n",
       "      <td>Toy Story</td>\n",
       "      <td>Toy Story</td>\n",
       "      <td>0</td>\n",
       "      <td>1995</td>\n",
       "      <td>\\N</td>\n",
       "      <td>81</td>\n",
       "      <td>Adventure|Animation|Comedy</td>\n",
       "      <td>8.3</td>\n",
       "      <td>1073870</td>\n",
       "    </tr>\n",
       "    <tr>\n",
       "      <th>91310</th>\n",
       "      <td>tt0120363</td>\n",
       "      <td>movie</td>\n",
       "      <td>Toy Story 2</td>\n",
       "      <td>Toy Story 2</td>\n",
       "      <td>0</td>\n",
       "      <td>1999</td>\n",
       "      <td>\\N</td>\n",
       "      <td>92</td>\n",
       "      <td>Adventure|Animation|Comedy</td>\n",
       "      <td>7.9</td>\n",
       "      <td>622515</td>\n",
       "    </tr>\n",
       "    <tr>\n",
       "      <th>122117</th>\n",
       "      <td>tt0178952</td>\n",
       "      <td>videoGame</td>\n",
       "      <td>Toy Story: The Video Game</td>\n",
       "      <td>Toy Story</td>\n",
       "      <td>0</td>\n",
       "      <td>1995</td>\n",
       "      <td>\\N</td>\n",
       "      <td>\\N</td>\n",
       "      <td>Action|Adventure|Family</td>\n",
       "      <td>7.4</td>\n",
       "      <td>753</td>\n",
       "    </tr>\n",
       "    <tr>\n",
       "      <th>143131</th>\n",
       "      <td>tt0220070</td>\n",
       "      <td>video</td>\n",
       "      <td>The Story Behind 'Toy Story'</td>\n",
       "      <td>The Story Behind 'Toy Story'</td>\n",
       "      <td>0</td>\n",
       "      <td>1996</td>\n",
       "      <td>\\N</td>\n",
       "      <td>27</td>\n",
       "      <td>Documentary|Short</td>\n",
       "      <td>7.1</td>\n",
       "      <td>153</td>\n",
       "    </tr>\n",
       "    <tr>\n",
       "      <th>154448</th>\n",
       "      <td>tt0245255</td>\n",
       "      <td>tvShort</td>\n",
       "      <td>The Making of 'Toy Story'</td>\n",
       "      <td>To Infinity and Beyond: The Making of 'Toy Story'</td>\n",
       "      <td>0</td>\n",
       "      <td>1995</td>\n",
       "      <td>\\N</td>\n",
       "      <td>20</td>\n",
       "      <td>Documentary|Family|Short</td>\n",
       "      <td>7.1</td>\n",
       "      <td>119</td>\n",
       "    </tr>\n",
       "  </tbody>\n",
       "</table>\n",
       "</div>"
      ],
      "text/plain": [
       "           tconst  titleType                  primaryTitle  \\\n",
       "86628   tt0114709      movie                     Toy Story   \n",
       "91310   tt0120363      movie                   Toy Story 2   \n",
       "122117  tt0178952  videoGame     Toy Story: The Video Game   \n",
       "143131  tt0220070      video  The Story Behind 'Toy Story'   \n",
       "154448  tt0245255    tvShort     The Making of 'Toy Story'   \n",
       "\n",
       "                                            originalTitle isAdult startYear  \\\n",
       "86628                                           Toy Story       0      1995   \n",
       "91310                                         Toy Story 2       0      1999   \n",
       "122117                                          Toy Story       0      1995   \n",
       "143131                       The Story Behind 'Toy Story'       0      1996   \n",
       "154448  To Infinity and Beyond: The Making of 'Toy Story'       0      1995   \n",
       "\n",
       "       endYear runtimeMinutes                      genres  averageRating  \\\n",
       "86628       \\N             81  Adventure|Animation|Comedy            8.3   \n",
       "91310       \\N             92  Adventure|Animation|Comedy            7.9   \n",
       "122117      \\N             \\N     Action|Adventure|Family            7.4   \n",
       "143131      \\N             27           Documentary|Short            7.1   \n",
       "154448      \\N             20    Documentary|Family|Short            7.1   \n",
       "\n",
       "        numVotes  \n",
       "86628    1073870  \n",
       "91310     622515  \n",
       "122117       753  \n",
       "143131       153  \n",
       "154448       119  "
      ]
     },
     "execution_count": 12,
     "metadata": {},
     "output_type": "execute_result"
    }
   ],
   "source": [
    "# show the movies that has toy story in the title\n",
    "\n",
    "title_basics_ratings[title_basics_ratings['primaryTitle'].str.contains('Toy Story')].head()"
   ]
  },
  {
   "cell_type": "code",
   "execution_count": 13,
   "metadata": {},
   "outputs": [
    {
     "data": {
      "text/html": [
       "<div>\n",
       "<style scoped>\n",
       "    .dataframe tbody tr th:only-of-type {\n",
       "        vertical-align: middle;\n",
       "    }\n",
       "\n",
       "    .dataframe tbody tr th {\n",
       "        vertical-align: top;\n",
       "    }\n",
       "\n",
       "    .dataframe thead th {\n",
       "        text-align: right;\n",
       "    }\n",
       "</style>\n",
       "<table border=\"1\" class=\"dataframe\">\n",
       "  <thead>\n",
       "    <tr style=\"text-align: right;\">\n",
       "      <th></th>\n",
       "      <th>movie_id</th>\n",
       "      <th>title</th>\n",
       "      <th>genres</th>\n",
       "    </tr>\n",
       "  </thead>\n",
       "  <tbody>\n",
       "    <tr>\n",
       "      <th>0</th>\n",
       "      <td>1</td>\n",
       "      <td>Toy Story (1995)</td>\n",
       "      <td>Animation|Children's|Comedy</td>\n",
       "    </tr>\n",
       "    <tr>\n",
       "      <th>3045</th>\n",
       "      <td>3114</td>\n",
       "      <td>Toy Story 2 (1999)</td>\n",
       "      <td>Animation|Children's|Comedy</td>\n",
       "    </tr>\n",
       "  </tbody>\n",
       "</table>\n",
       "</div>"
      ],
      "text/plain": [
       "      movie_id               title                       genres\n",
       "0            1    Toy Story (1995)  Animation|Children's|Comedy\n",
       "3045      3114  Toy Story 2 (1999)  Animation|Children's|Comedy"
      ]
     },
     "execution_count": 13,
     "metadata": {},
     "output_type": "execute_result"
    }
   ],
   "source": [
    "# same in movies\n",
    "\n",
    "movies[movies['title'].str.contains('Toy Story')].head()"
   ]
  }
 ],
 "metadata": {
  "kernelspec": {
   "display_name": "Python 3",
   "language": "python",
   "name": "python3"
  },
  "language_info": {
   "codemirror_mode": {
    "name": "ipython",
    "version": 3
   },
   "file_extension": ".py",
   "mimetype": "text/x-python",
   "name": "python",
   "nbconvert_exporter": "python",
   "pygments_lexer": "ipython3",
   "version": "3.10.12"
  }
 },
 "nbformat": 4,
 "nbformat_minor": 2
}
